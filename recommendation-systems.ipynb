{
 "cells": [
  {
   "cell_type": "markdown",
   "metadata": {
    "papermill": {
     "duration": 0.013514,
     "end_time": "2021-01-08T13:44:30.130532",
     "exception": false,
     "start_time": "2021-01-08T13:44:30.117018",
     "status": "completed"
    },
    "tags": []
   },
   "source": []
  },
  {
   "cell_type": "markdown",
   "metadata": {
    "papermill": {
     "duration": 0.012122,
     "end_time": "2021-01-08T13:44:30.155337",
     "exception": false,
     "start_time": "2021-01-08T13:44:30.143215",
     "status": "completed"
    },
    "tags": []
   },
   "source": []
  },
  {
   "cell_type": "code",
   "execution_count": 1,
   "metadata": {
    "_cell_guid": "b1076dfc-b9ad-4769-8c92-a6c4dae69d19",
    "_uuid": "8f2839f25d086af736a60e9eeb907d3b93b6e0e5",
    "execution": {
     "iopub.execute_input": "2021-01-08T13:44:30.183616Z",
     "iopub.status.busy": "2021-01-08T13:44:30.183018Z",
     "iopub.status.idle": "2021-01-08T13:44:30.194304Z",
     "shell.execute_reply": "2021-01-08T13:44:30.194783Z"
    },
    "papermill": {
     "duration": 0.026994,
     "end_time": "2021-01-08T13:44:30.194956",
     "exception": false,
     "start_time": "2021-01-08T13:44:30.167962",
     "status": "completed"
    },
    "tags": []
   },
   "outputs": [
    {
     "name": "stdout",
     "output_type": "stream",
     "text": [
      "/kaggle/input/movies-dataset-rce/Movie.csv\n"
     ]
    }
   ],
   "source": [
    "# This Python 3 environment comes with many helpful analytics libraries installed\n",
    "# It is defined by the kaggle/python Docker image: https://github.com/kaggle/docker-python\n",
    "# For example, here's several helpful packages to load\n",
    "\n",
    "import numpy as np # linear algebra\n",
    "import pandas as pd # data processing, CSV file I/O (e.g. pd.read_csv)\n",
    "\n",
    "# Input data files are available in the read-only \"../input/\" directory\n",
    "# For example, running this (by clicking run or pressing Shift+Enter) will list all files under the input directory\n",
    "\n",
    "import os\n",
    "for dirname, _, filenames in os.walk('/kaggle/input'):\n",
    "    for filename in filenames:\n",
    "        print(os.path.join(dirname, filename))\n",
    "\n",
    "# You can write up to 20GB to the current directory (/kaggle/working/) that gets preserved as output when you create a version using \"Save & Run All\" \n",
    "# You can also write temporary files to /kaggle/temp/, but they won't be saved outside of the current session"
   ]
  },
  {
   "cell_type": "code",
   "execution_count": 2,
   "metadata": {
    "_cell_guid": "79c7e3d0-c299-4dcb-8224-4455121ee9b0",
    "_uuid": "d629ff2d2480ee46fbb7e2d37f6b5fab8052498a",
    "execution": {
     "iopub.execute_input": "2021-01-08T13:44:30.224534Z",
     "iopub.status.busy": "2021-01-08T13:44:30.223918Z",
     "iopub.status.idle": "2021-01-08T13:44:30.227427Z",
     "shell.execute_reply": "2021-01-08T13:44:30.227916Z"
    },
    "papermill": {
     "duration": 0.019483,
     "end_time": "2021-01-08T13:44:30.228060",
     "exception": false,
     "start_time": "2021-01-08T13:44:30.208577",
     "status": "completed"
    },
    "tags": []
   },
   "outputs": [],
   "source": [
    "import pandas as pd\n",
    "import numpy as np"
   ]
  },
  {
   "cell_type": "code",
   "execution_count": 3,
   "metadata": {
    "execution": {
     "iopub.execute_input": "2021-01-08T13:44:30.257811Z",
     "iopub.status.busy": "2021-01-08T13:44:30.257241Z",
     "iopub.status.idle": "2021-01-08T13:44:30.298527Z",
     "shell.execute_reply": "2021-01-08T13:44:30.297941Z"
    },
    "papermill": {
     "duration": 0.057301,
     "end_time": "2021-01-08T13:44:30.298648",
     "exception": false,
     "start_time": "2021-01-08T13:44:30.241347",
     "status": "completed"
    },
    "tags": []
   },
   "outputs": [
    {
     "data": {
      "text/html": [
       "<div>\n",
       "<style scoped>\n",
       "    .dataframe tbody tr th:only-of-type {\n",
       "        vertical-align: middle;\n",
       "    }\n",
       "\n",
       "    .dataframe tbody tr th {\n",
       "        vertical-align: top;\n",
       "    }\n",
       "\n",
       "    .dataframe thead th {\n",
       "        text-align: right;\n",
       "    }\n",
       "</style>\n",
       "<table border=\"1\" class=\"dataframe\">\n",
       "  <thead>\n",
       "    <tr style=\"text-align: right;\">\n",
       "      <th></th>\n",
       "      <th>userId</th>\n",
       "      <th>movie</th>\n",
       "      <th>rating</th>\n",
       "    </tr>\n",
       "  </thead>\n",
       "  <tbody>\n",
       "    <tr>\n",
       "      <th>0</th>\n",
       "      <td>3</td>\n",
       "      <td>Toy Story (1995)</td>\n",
       "      <td>4.0</td>\n",
       "    </tr>\n",
       "    <tr>\n",
       "      <th>1</th>\n",
       "      <td>6</td>\n",
       "      <td>Toy Story (1995)</td>\n",
       "      <td>5.0</td>\n",
       "    </tr>\n",
       "    <tr>\n",
       "      <th>2</th>\n",
       "      <td>8</td>\n",
       "      <td>Toy Story (1995)</td>\n",
       "      <td>4.0</td>\n",
       "    </tr>\n",
       "    <tr>\n",
       "      <th>3</th>\n",
       "      <td>10</td>\n",
       "      <td>Toy Story (1995)</td>\n",
       "      <td>4.0</td>\n",
       "    </tr>\n",
       "    <tr>\n",
       "      <th>4</th>\n",
       "      <td>11</td>\n",
       "      <td>Toy Story (1995)</td>\n",
       "      <td>4.5</td>\n",
       "    </tr>\n",
       "    <tr>\n",
       "      <th>...</th>\n",
       "      <td>...</td>\n",
       "      <td>...</td>\n",
       "      <td>...</td>\n",
       "    </tr>\n",
       "    <tr>\n",
       "      <th>8987</th>\n",
       "      <td>7087</td>\n",
       "      <td>GoldenEye (1995)</td>\n",
       "      <td>3.0</td>\n",
       "    </tr>\n",
       "    <tr>\n",
       "      <th>8988</th>\n",
       "      <td>7088</td>\n",
       "      <td>GoldenEye (1995)</td>\n",
       "      <td>1.0</td>\n",
       "    </tr>\n",
       "    <tr>\n",
       "      <th>8989</th>\n",
       "      <td>7105</td>\n",
       "      <td>GoldenEye (1995)</td>\n",
       "      <td>2.0</td>\n",
       "    </tr>\n",
       "    <tr>\n",
       "      <th>8990</th>\n",
       "      <td>7113</td>\n",
       "      <td>GoldenEye (1995)</td>\n",
       "      <td>3.0</td>\n",
       "    </tr>\n",
       "    <tr>\n",
       "      <th>8991</th>\n",
       "      <td>7117</td>\n",
       "      <td>GoldenEye (1995)</td>\n",
       "      <td>3.0</td>\n",
       "    </tr>\n",
       "  </tbody>\n",
       "</table>\n",
       "<p>8992 rows × 3 columns</p>\n",
       "</div>"
      ],
      "text/plain": [
       "      userId             movie  rating\n",
       "0          3  Toy Story (1995)     4.0\n",
       "1          6  Toy Story (1995)     5.0\n",
       "2          8  Toy Story (1995)     4.0\n",
       "3         10  Toy Story (1995)     4.0\n",
       "4         11  Toy Story (1995)     4.5\n",
       "...      ...               ...     ...\n",
       "8987    7087  GoldenEye (1995)     3.0\n",
       "8988    7088  GoldenEye (1995)     1.0\n",
       "8989    7105  GoldenEye (1995)     2.0\n",
       "8990    7113  GoldenEye (1995)     3.0\n",
       "8991    7117  GoldenEye (1995)     3.0\n",
       "\n",
       "[8992 rows x 3 columns]"
      ]
     },
     "execution_count": 3,
     "metadata": {},
     "output_type": "execute_result"
    }
   ],
   "source": [
    "movies_df=pd.read_csv(\"../input/movies-dataset-rce/Movie.csv\")\n",
    "movies_df"
   ]
  },
  {
   "cell_type": "code",
   "execution_count": 4,
   "metadata": {
    "execution": {
     "iopub.execute_input": "2021-01-08T13:44:30.332863Z",
     "iopub.status.busy": "2021-01-08T13:44:30.332207Z",
     "iopub.status.idle": "2021-01-08T13:44:30.338152Z",
     "shell.execute_reply": "2021-01-08T13:44:30.338651Z"
    },
    "papermill": {
     "duration": 0.026441,
     "end_time": "2021-01-08T13:44:30.338859",
     "exception": false,
     "start_time": "2021-01-08T13:44:30.312418",
     "status": "completed"
    },
    "tags": []
   },
   "outputs": [
    {
     "data": {
      "text/html": [
       "<div>\n",
       "<style scoped>\n",
       "    .dataframe tbody tr th:only-of-type {\n",
       "        vertical-align: middle;\n",
       "    }\n",
       "\n",
       "    .dataframe tbody tr th {\n",
       "        vertical-align: top;\n",
       "    }\n",
       "\n",
       "    .dataframe thead th {\n",
       "        text-align: right;\n",
       "    }\n",
       "</style>\n",
       "<table border=\"1\" class=\"dataframe\">\n",
       "  <thead>\n",
       "    <tr style=\"text-align: right;\">\n",
       "      <th></th>\n",
       "      <th>userId</th>\n",
       "      <th>movie</th>\n",
       "      <th>rating</th>\n",
       "    </tr>\n",
       "  </thead>\n",
       "  <tbody>\n",
       "    <tr>\n",
       "      <th>0</th>\n",
       "      <td>3</td>\n",
       "      <td>Toy Story (1995)</td>\n",
       "      <td>4.0</td>\n",
       "    </tr>\n",
       "    <tr>\n",
       "      <th>1</th>\n",
       "      <td>6</td>\n",
       "      <td>Toy Story (1995)</td>\n",
       "      <td>5.0</td>\n",
       "    </tr>\n",
       "    <tr>\n",
       "      <th>2</th>\n",
       "      <td>8</td>\n",
       "      <td>Toy Story (1995)</td>\n",
       "      <td>4.0</td>\n",
       "    </tr>\n",
       "    <tr>\n",
       "      <th>3</th>\n",
       "      <td>10</td>\n",
       "      <td>Toy Story (1995)</td>\n",
       "      <td>4.0</td>\n",
       "    </tr>\n",
       "    <tr>\n",
       "      <th>4</th>\n",
       "      <td>11</td>\n",
       "      <td>Toy Story (1995)</td>\n",
       "      <td>4.5</td>\n",
       "    </tr>\n",
       "  </tbody>\n",
       "</table>\n",
       "</div>"
      ],
      "text/plain": [
       "   userId             movie  rating\n",
       "0       3  Toy Story (1995)     4.0\n",
       "1       6  Toy Story (1995)     5.0\n",
       "2       8  Toy Story (1995)     4.0\n",
       "3      10  Toy Story (1995)     4.0\n",
       "4      11  Toy Story (1995)     4.5"
      ]
     },
     "execution_count": 4,
     "metadata": {},
     "output_type": "execute_result"
    }
   ],
   "source": [
    "movies_df[0:5]"
   ]
  },
  {
   "cell_type": "code",
   "execution_count": 5,
   "metadata": {
    "execution": {
     "iopub.execute_input": "2021-01-08T13:44:30.372678Z",
     "iopub.status.busy": "2021-01-08T13:44:30.371837Z",
     "iopub.status.idle": "2021-01-08T13:44:30.377329Z",
     "shell.execute_reply": "2021-01-08T13:44:30.376756Z"
    },
    "papermill": {
     "duration": 0.02452,
     "end_time": "2021-01-08T13:44:30.377444",
     "exception": false,
     "start_time": "2021-01-08T13:44:30.352924",
     "status": "completed"
    },
    "tags": []
   },
   "outputs": [
    {
     "data": {
      "text/plain": [
       "4081"
      ]
     },
     "execution_count": 5,
     "metadata": {},
     "output_type": "execute_result"
    }
   ],
   "source": [
    "#number of unique users in the dataset\\n\",\n",
    "len(movies_df.userId.unique())"
   ]
  },
  {
   "cell_type": "code",
   "execution_count": 6,
   "metadata": {
    "execution": {
     "iopub.execute_input": "2021-01-08T13:44:30.413014Z",
     "iopub.status.busy": "2021-01-08T13:44:30.412053Z",
     "iopub.status.idle": "2021-01-08T13:44:30.417272Z",
     "shell.execute_reply": "2021-01-08T13:44:30.416763Z"
    },
    "papermill": {
     "duration": 0.025028,
     "end_time": "2021-01-08T13:44:30.417374",
     "exception": false,
     "start_time": "2021-01-08T13:44:30.392346",
     "status": "completed"
    },
    "tags": []
   },
   "outputs": [
    {
     "data": {
      "text/plain": [
       "10"
      ]
     },
     "execution_count": 6,
     "metadata": {},
     "output_type": "execute_result"
    }
   ],
   "source": [
    "len(movies_df.movie.unique())"
   ]
  },
  {
   "cell_type": "code",
   "execution_count": 7,
   "metadata": {
    "execution": {
     "iopub.execute_input": "2021-01-08T13:44:30.451200Z",
     "iopub.status.busy": "2021-01-08T13:44:30.450558Z",
     "iopub.status.idle": "2021-01-08T13:44:30.453916Z",
     "shell.execute_reply": "2021-01-08T13:44:30.454360Z"
    },
    "papermill": {
     "duration": 0.022566,
     "end_time": "2021-01-08T13:44:30.454500",
     "exception": false,
     "start_time": "2021-01-08T13:44:30.431934",
     "status": "completed"
    },
    "tags": []
   },
   "outputs": [
    {
     "data": {
      "text/plain": [
       "10"
      ]
     },
     "execution_count": 7,
     "metadata": {},
     "output_type": "execute_result"
    }
   ],
   "source": [
    "len(movies_df.rating.unique())"
   ]
  },
  {
   "cell_type": "code",
   "execution_count": 8,
   "metadata": {
    "execution": {
     "iopub.execute_input": "2021-01-08T13:44:30.487626Z",
     "iopub.status.busy": "2021-01-08T13:44:30.487029Z",
     "iopub.status.idle": "2021-01-08T13:44:30.504011Z",
     "shell.execute_reply": "2021-01-08T13:44:30.504547Z"
    },
    "papermill": {
     "duration": 0.035228,
     "end_time": "2021-01-08T13:44:30.504686",
     "exception": false,
     "start_time": "2021-01-08T13:44:30.469458",
     "status": "completed"
    },
    "tags": []
   },
   "outputs": [],
   "source": [
    "user_movies_df = movies_df.pivot(index='userId',columns='movie',values='rating').reset_index(drop=True)"
   ]
  },
  {
   "cell_type": "code",
   "execution_count": null,
   "metadata": {
    "papermill": {
     "duration": 0.015242,
     "end_time": "2021-01-08T13:44:30.534788",
     "exception": false,
     "start_time": "2021-01-08T13:44:30.519546",
     "status": "completed"
    },
    "tags": []
   },
   "outputs": [],
   "source": []
  },
  {
   "cell_type": "code",
   "execution_count": 9,
   "metadata": {
    "execution": {
     "iopub.execute_input": "2021-01-08T13:44:30.569963Z",
     "iopub.status.busy": "2021-01-08T13:44:30.569274Z",
     "iopub.status.idle": "2021-01-08T13:44:30.587409Z",
     "shell.execute_reply": "2021-01-08T13:44:30.587937Z"
    },
    "papermill": {
     "duration": 0.03798,
     "end_time": "2021-01-08T13:44:30.588077",
     "exception": false,
     "start_time": "2021-01-08T13:44:30.550097",
     "status": "completed"
    },
    "tags": []
   },
   "outputs": [
    {
     "data": {
      "text/html": [
       "<div>\n",
       "<style scoped>\n",
       "    .dataframe tbody tr th:only-of-type {\n",
       "        vertical-align: middle;\n",
       "    }\n",
       "\n",
       "    .dataframe tbody tr th {\n",
       "        vertical-align: top;\n",
       "    }\n",
       "\n",
       "    .dataframe thead th {\n",
       "        text-align: right;\n",
       "    }\n",
       "</style>\n",
       "<table border=\"1\" class=\"dataframe\">\n",
       "  <thead>\n",
       "    <tr style=\"text-align: right;\">\n",
       "      <th>movie</th>\n",
       "      <th>Father of the Bride Part II (1995)</th>\n",
       "      <th>GoldenEye (1995)</th>\n",
       "      <th>Grumpier Old Men (1995)</th>\n",
       "      <th>Heat (1995)</th>\n",
       "      <th>Jumanji (1995)</th>\n",
       "      <th>Sabrina (1995)</th>\n",
       "      <th>Sudden Death (1995)</th>\n",
       "      <th>Tom and Huck (1995)</th>\n",
       "      <th>Toy Story (1995)</th>\n",
       "      <th>Waiting to Exhale (1995)</th>\n",
       "    </tr>\n",
       "  </thead>\n",
       "  <tbody>\n",
       "    <tr>\n",
       "      <th>0</th>\n",
       "      <td>NaN</td>\n",
       "      <td>NaN</td>\n",
       "      <td>NaN</td>\n",
       "      <td>NaN</td>\n",
       "      <td>3.5</td>\n",
       "      <td>NaN</td>\n",
       "      <td>NaN</td>\n",
       "      <td>NaN</td>\n",
       "      <td>NaN</td>\n",
       "      <td>NaN</td>\n",
       "    </tr>\n",
       "    <tr>\n",
       "      <th>1</th>\n",
       "      <td>NaN</td>\n",
       "      <td>NaN</td>\n",
       "      <td>4.0</td>\n",
       "      <td>NaN</td>\n",
       "      <td>NaN</td>\n",
       "      <td>NaN</td>\n",
       "      <td>NaN</td>\n",
       "      <td>NaN</td>\n",
       "      <td>NaN</td>\n",
       "      <td>NaN</td>\n",
       "    </tr>\n",
       "    <tr>\n",
       "      <th>2</th>\n",
       "      <td>NaN</td>\n",
       "      <td>NaN</td>\n",
       "      <td>NaN</td>\n",
       "      <td>NaN</td>\n",
       "      <td>NaN</td>\n",
       "      <td>NaN</td>\n",
       "      <td>NaN</td>\n",
       "      <td>NaN</td>\n",
       "      <td>4.0</td>\n",
       "      <td>NaN</td>\n",
       "    </tr>\n",
       "    <tr>\n",
       "      <th>3</th>\n",
       "      <td>NaN</td>\n",
       "      <td>4.0</td>\n",
       "      <td>NaN</td>\n",
       "      <td>3.0</td>\n",
       "      <td>NaN</td>\n",
       "      <td>NaN</td>\n",
       "      <td>NaN</td>\n",
       "      <td>NaN</td>\n",
       "      <td>NaN</td>\n",
       "      <td>NaN</td>\n",
       "    </tr>\n",
       "    <tr>\n",
       "      <th>4</th>\n",
       "      <td>NaN</td>\n",
       "      <td>NaN</td>\n",
       "      <td>NaN</td>\n",
       "      <td>NaN</td>\n",
       "      <td>3.0</td>\n",
       "      <td>NaN</td>\n",
       "      <td>NaN</td>\n",
       "      <td>NaN</td>\n",
       "      <td>NaN</td>\n",
       "      <td>NaN</td>\n",
       "    </tr>\n",
       "    <tr>\n",
       "      <th>...</th>\n",
       "      <td>...</td>\n",
       "      <td>...</td>\n",
       "      <td>...</td>\n",
       "      <td>...</td>\n",
       "      <td>...</td>\n",
       "      <td>...</td>\n",
       "      <td>...</td>\n",
       "      <td>...</td>\n",
       "      <td>...</td>\n",
       "      <td>...</td>\n",
       "    </tr>\n",
       "    <tr>\n",
       "      <th>4076</th>\n",
       "      <td>4.0</td>\n",
       "      <td>NaN</td>\n",
       "      <td>NaN</td>\n",
       "      <td>NaN</td>\n",
       "      <td>NaN</td>\n",
       "      <td>NaN</td>\n",
       "      <td>NaN</td>\n",
       "      <td>NaN</td>\n",
       "      <td>NaN</td>\n",
       "      <td>NaN</td>\n",
       "    </tr>\n",
       "    <tr>\n",
       "      <th>4077</th>\n",
       "      <td>3.5</td>\n",
       "      <td>NaN</td>\n",
       "      <td>NaN</td>\n",
       "      <td>NaN</td>\n",
       "      <td>NaN</td>\n",
       "      <td>NaN</td>\n",
       "      <td>NaN</td>\n",
       "      <td>NaN</td>\n",
       "      <td>4.0</td>\n",
       "      <td>NaN</td>\n",
       "    </tr>\n",
       "    <tr>\n",
       "      <th>4078</th>\n",
       "      <td>NaN</td>\n",
       "      <td>3.0</td>\n",
       "      <td>4.0</td>\n",
       "      <td>5.0</td>\n",
       "      <td>NaN</td>\n",
       "      <td>3.0</td>\n",
       "      <td>1.0</td>\n",
       "      <td>NaN</td>\n",
       "      <td>4.0</td>\n",
       "      <td>NaN</td>\n",
       "    </tr>\n",
       "    <tr>\n",
       "      <th>4079</th>\n",
       "      <td>NaN</td>\n",
       "      <td>NaN</td>\n",
       "      <td>NaN</td>\n",
       "      <td>NaN</td>\n",
       "      <td>NaN</td>\n",
       "      <td>NaN</td>\n",
       "      <td>NaN</td>\n",
       "      <td>NaN</td>\n",
       "      <td>5.0</td>\n",
       "      <td>NaN</td>\n",
       "    </tr>\n",
       "    <tr>\n",
       "      <th>4080</th>\n",
       "      <td>NaN</td>\n",
       "      <td>NaN</td>\n",
       "      <td>NaN</td>\n",
       "      <td>NaN</td>\n",
       "      <td>4.0</td>\n",
       "      <td>4.0</td>\n",
       "      <td>NaN</td>\n",
       "      <td>NaN</td>\n",
       "      <td>4.5</td>\n",
       "      <td>NaN</td>\n",
       "    </tr>\n",
       "  </tbody>\n",
       "</table>\n",
       "<p>4081 rows × 10 columns</p>\n",
       "</div>"
      ],
      "text/plain": [
       "movie  Father of the Bride Part II (1995)  GoldenEye (1995)  \\\n",
       "0                                     NaN               NaN   \n",
       "1                                     NaN               NaN   \n",
       "2                                     NaN               NaN   \n",
       "3                                     NaN               4.0   \n",
       "4                                     NaN               NaN   \n",
       "...                                   ...               ...   \n",
       "4076                                  4.0               NaN   \n",
       "4077                                  3.5               NaN   \n",
       "4078                                  NaN               3.0   \n",
       "4079                                  NaN               NaN   \n",
       "4080                                  NaN               NaN   \n",
       "\n",
       "movie  Grumpier Old Men (1995)  Heat (1995)  Jumanji (1995)  Sabrina (1995)  \\\n",
       "0                          NaN          NaN             3.5             NaN   \n",
       "1                          4.0          NaN             NaN             NaN   \n",
       "2                          NaN          NaN             NaN             NaN   \n",
       "3                          NaN          3.0             NaN             NaN   \n",
       "4                          NaN          NaN             3.0             NaN   \n",
       "...                        ...          ...             ...             ...   \n",
       "4076                       NaN          NaN             NaN             NaN   \n",
       "4077                       NaN          NaN             NaN             NaN   \n",
       "4078                       4.0          5.0             NaN             3.0   \n",
       "4079                       NaN          NaN             NaN             NaN   \n",
       "4080                       NaN          NaN             4.0             4.0   \n",
       "\n",
       "movie  Sudden Death (1995)  Tom and Huck (1995)  Toy Story (1995)  \\\n",
       "0                      NaN                  NaN               NaN   \n",
       "1                      NaN                  NaN               NaN   \n",
       "2                      NaN                  NaN               4.0   \n",
       "3                      NaN                  NaN               NaN   \n",
       "4                      NaN                  NaN               NaN   \n",
       "...                    ...                  ...               ...   \n",
       "4076                   NaN                  NaN               NaN   \n",
       "4077                   NaN                  NaN               4.0   \n",
       "4078                   1.0                  NaN               4.0   \n",
       "4079                   NaN                  NaN               5.0   \n",
       "4080                   NaN                  NaN               4.5   \n",
       "\n",
       "movie  Waiting to Exhale (1995)  \n",
       "0                           NaN  \n",
       "1                           NaN  \n",
       "2                           NaN  \n",
       "3                           NaN  \n",
       "4                           NaN  \n",
       "...                         ...  \n",
       "4076                        NaN  \n",
       "4077                        NaN  \n",
       "4078                        NaN  \n",
       "4079                        NaN  \n",
       "4080                        NaN  \n",
       "\n",
       "[4081 rows x 10 columns]"
      ]
     },
     "execution_count": 9,
     "metadata": {},
     "output_type": "execute_result"
    }
   ],
   "source": [
    "user_movies_df"
   ]
  },
  {
   "cell_type": "code",
   "execution_count": 10,
   "metadata": {
    "execution": {
     "iopub.execute_input": "2021-01-08T13:44:30.623278Z",
     "iopub.status.busy": "2021-01-08T13:44:30.622714Z",
     "iopub.status.idle": "2021-01-08T13:44:30.626405Z",
     "shell.execute_reply": "2021-01-08T13:44:30.627006Z"
    },
    "papermill": {
     "duration": 0.022872,
     "end_time": "2021-01-08T13:44:30.627148",
     "exception": false,
     "start_time": "2021-01-08T13:44:30.604276",
     "status": "completed"
    },
    "tags": []
   },
   "outputs": [],
   "source": [
    "user_movies_df.index = movies_df.userId.unique()"
   ]
  },
  {
   "cell_type": "code",
   "execution_count": 11,
   "metadata": {
    "execution": {
     "iopub.execute_input": "2021-01-08T13:44:30.662397Z",
     "iopub.status.busy": "2021-01-08T13:44:30.661805Z",
     "iopub.status.idle": "2021-01-08T13:44:30.679349Z",
     "shell.execute_reply": "2021-01-08T13:44:30.678873Z"
    },
    "papermill": {
     "duration": 0.036156,
     "end_time": "2021-01-08T13:44:30.679493",
     "exception": false,
     "start_time": "2021-01-08T13:44:30.643337",
     "status": "completed"
    },
    "tags": []
   },
   "outputs": [
    {
     "data": {
      "text/html": [
       "<div>\n",
       "<style scoped>\n",
       "    .dataframe tbody tr th:only-of-type {\n",
       "        vertical-align: middle;\n",
       "    }\n",
       "\n",
       "    .dataframe tbody tr th {\n",
       "        vertical-align: top;\n",
       "    }\n",
       "\n",
       "    .dataframe thead th {\n",
       "        text-align: right;\n",
       "    }\n",
       "</style>\n",
       "<table border=\"1\" class=\"dataframe\">\n",
       "  <thead>\n",
       "    <tr style=\"text-align: right;\">\n",
       "      <th>movie</th>\n",
       "      <th>Father of the Bride Part II (1995)</th>\n",
       "      <th>GoldenEye (1995)</th>\n",
       "      <th>Grumpier Old Men (1995)</th>\n",
       "      <th>Heat (1995)</th>\n",
       "      <th>Jumanji (1995)</th>\n",
       "      <th>Sabrina (1995)</th>\n",
       "      <th>Sudden Death (1995)</th>\n",
       "      <th>Tom and Huck (1995)</th>\n",
       "      <th>Toy Story (1995)</th>\n",
       "      <th>Waiting to Exhale (1995)</th>\n",
       "    </tr>\n",
       "  </thead>\n",
       "  <tbody>\n",
       "    <tr>\n",
       "      <th>3</th>\n",
       "      <td>NaN</td>\n",
       "      <td>NaN</td>\n",
       "      <td>NaN</td>\n",
       "      <td>NaN</td>\n",
       "      <td>3.5</td>\n",
       "      <td>NaN</td>\n",
       "      <td>NaN</td>\n",
       "      <td>NaN</td>\n",
       "      <td>NaN</td>\n",
       "      <td>NaN</td>\n",
       "    </tr>\n",
       "    <tr>\n",
       "      <th>6</th>\n",
       "      <td>NaN</td>\n",
       "      <td>NaN</td>\n",
       "      <td>4.0</td>\n",
       "      <td>NaN</td>\n",
       "      <td>NaN</td>\n",
       "      <td>NaN</td>\n",
       "      <td>NaN</td>\n",
       "      <td>NaN</td>\n",
       "      <td>NaN</td>\n",
       "      <td>NaN</td>\n",
       "    </tr>\n",
       "    <tr>\n",
       "      <th>8</th>\n",
       "      <td>NaN</td>\n",
       "      <td>NaN</td>\n",
       "      <td>NaN</td>\n",
       "      <td>NaN</td>\n",
       "      <td>NaN</td>\n",
       "      <td>NaN</td>\n",
       "      <td>NaN</td>\n",
       "      <td>NaN</td>\n",
       "      <td>4.0</td>\n",
       "      <td>NaN</td>\n",
       "    </tr>\n",
       "    <tr>\n",
       "      <th>10</th>\n",
       "      <td>NaN</td>\n",
       "      <td>4.0</td>\n",
       "      <td>NaN</td>\n",
       "      <td>3.0</td>\n",
       "      <td>NaN</td>\n",
       "      <td>NaN</td>\n",
       "      <td>NaN</td>\n",
       "      <td>NaN</td>\n",
       "      <td>NaN</td>\n",
       "      <td>NaN</td>\n",
       "    </tr>\n",
       "    <tr>\n",
       "      <th>11</th>\n",
       "      <td>NaN</td>\n",
       "      <td>NaN</td>\n",
       "      <td>NaN</td>\n",
       "      <td>NaN</td>\n",
       "      <td>3.0</td>\n",
       "      <td>NaN</td>\n",
       "      <td>NaN</td>\n",
       "      <td>NaN</td>\n",
       "      <td>NaN</td>\n",
       "      <td>NaN</td>\n",
       "    </tr>\n",
       "    <tr>\n",
       "      <th>...</th>\n",
       "      <td>...</td>\n",
       "      <td>...</td>\n",
       "      <td>...</td>\n",
       "      <td>...</td>\n",
       "      <td>...</td>\n",
       "      <td>...</td>\n",
       "      <td>...</td>\n",
       "      <td>...</td>\n",
       "      <td>...</td>\n",
       "      <td>...</td>\n",
       "    </tr>\n",
       "    <tr>\n",
       "      <th>7044</th>\n",
       "      <td>4.0</td>\n",
       "      <td>NaN</td>\n",
       "      <td>NaN</td>\n",
       "      <td>NaN</td>\n",
       "      <td>NaN</td>\n",
       "      <td>NaN</td>\n",
       "      <td>NaN</td>\n",
       "      <td>NaN</td>\n",
       "      <td>NaN</td>\n",
       "      <td>NaN</td>\n",
       "    </tr>\n",
       "    <tr>\n",
       "      <th>7070</th>\n",
       "      <td>3.5</td>\n",
       "      <td>NaN</td>\n",
       "      <td>NaN</td>\n",
       "      <td>NaN</td>\n",
       "      <td>NaN</td>\n",
       "      <td>NaN</td>\n",
       "      <td>NaN</td>\n",
       "      <td>NaN</td>\n",
       "      <td>4.0</td>\n",
       "      <td>NaN</td>\n",
       "    </tr>\n",
       "    <tr>\n",
       "      <th>7080</th>\n",
       "      <td>NaN</td>\n",
       "      <td>3.0</td>\n",
       "      <td>4.0</td>\n",
       "      <td>5.0</td>\n",
       "      <td>NaN</td>\n",
       "      <td>3.0</td>\n",
       "      <td>1.0</td>\n",
       "      <td>NaN</td>\n",
       "      <td>4.0</td>\n",
       "      <td>NaN</td>\n",
       "    </tr>\n",
       "    <tr>\n",
       "      <th>7087</th>\n",
       "      <td>NaN</td>\n",
       "      <td>NaN</td>\n",
       "      <td>NaN</td>\n",
       "      <td>NaN</td>\n",
       "      <td>NaN</td>\n",
       "      <td>NaN</td>\n",
       "      <td>NaN</td>\n",
       "      <td>NaN</td>\n",
       "      <td>5.0</td>\n",
       "      <td>NaN</td>\n",
       "    </tr>\n",
       "    <tr>\n",
       "      <th>7105</th>\n",
       "      <td>NaN</td>\n",
       "      <td>NaN</td>\n",
       "      <td>NaN</td>\n",
       "      <td>NaN</td>\n",
       "      <td>4.0</td>\n",
       "      <td>4.0</td>\n",
       "      <td>NaN</td>\n",
       "      <td>NaN</td>\n",
       "      <td>4.5</td>\n",
       "      <td>NaN</td>\n",
       "    </tr>\n",
       "  </tbody>\n",
       "</table>\n",
       "<p>4081 rows × 10 columns</p>\n",
       "</div>"
      ],
      "text/plain": [
       "movie  Father of the Bride Part II (1995)  GoldenEye (1995)  \\\n",
       "3                                     NaN               NaN   \n",
       "6                                     NaN               NaN   \n",
       "8                                     NaN               NaN   \n",
       "10                                    NaN               4.0   \n",
       "11                                    NaN               NaN   \n",
       "...                                   ...               ...   \n",
       "7044                                  4.0               NaN   \n",
       "7070                                  3.5               NaN   \n",
       "7080                                  NaN               3.0   \n",
       "7087                                  NaN               NaN   \n",
       "7105                                  NaN               NaN   \n",
       "\n",
       "movie  Grumpier Old Men (1995)  Heat (1995)  Jumanji (1995)  Sabrina (1995)  \\\n",
       "3                          NaN          NaN             3.5             NaN   \n",
       "6                          4.0          NaN             NaN             NaN   \n",
       "8                          NaN          NaN             NaN             NaN   \n",
       "10                         NaN          3.0             NaN             NaN   \n",
       "11                         NaN          NaN             3.0             NaN   \n",
       "...                        ...          ...             ...             ...   \n",
       "7044                       NaN          NaN             NaN             NaN   \n",
       "7070                       NaN          NaN             NaN             NaN   \n",
       "7080                       4.0          5.0             NaN             3.0   \n",
       "7087                       NaN          NaN             NaN             NaN   \n",
       "7105                       NaN          NaN             4.0             4.0   \n",
       "\n",
       "movie  Sudden Death (1995)  Tom and Huck (1995)  Toy Story (1995)  \\\n",
       "3                      NaN                  NaN               NaN   \n",
       "6                      NaN                  NaN               NaN   \n",
       "8                      NaN                  NaN               4.0   \n",
       "10                     NaN                  NaN               NaN   \n",
       "11                     NaN                  NaN               NaN   \n",
       "...                    ...                  ...               ...   \n",
       "7044                   NaN                  NaN               NaN   \n",
       "7070                   NaN                  NaN               4.0   \n",
       "7080                   1.0                  NaN               4.0   \n",
       "7087                   NaN                  NaN               5.0   \n",
       "7105                   NaN                  NaN               4.5   \n",
       "\n",
       "movie  Waiting to Exhale (1995)  \n",
       "3                           NaN  \n",
       "6                           NaN  \n",
       "8                           NaN  \n",
       "10                          NaN  \n",
       "11                          NaN  \n",
       "...                         ...  \n",
       "7044                        NaN  \n",
       "7070                        NaN  \n",
       "7080                        NaN  \n",
       "7087                        NaN  \n",
       "7105                        NaN  \n",
       "\n",
       "[4081 rows x 10 columns]"
      ]
     },
     "execution_count": 11,
     "metadata": {},
     "output_type": "execute_result"
    }
   ],
   "source": [
    "user_movies_df"
   ]
  },
  {
   "cell_type": "code",
   "execution_count": 12,
   "metadata": {
    "execution": {
     "iopub.execute_input": "2021-01-08T13:44:30.717686Z",
     "iopub.status.busy": "2021-01-08T13:44:30.717112Z",
     "iopub.status.idle": "2021-01-08T13:44:30.734426Z",
     "shell.execute_reply": "2021-01-08T13:44:30.734949Z"
    },
    "papermill": {
     "duration": 0.038736,
     "end_time": "2021-01-08T13:44:30.735093",
     "exception": false,
     "start_time": "2021-01-08T13:44:30.696357",
     "status": "completed"
    },
    "tags": []
   },
   "outputs": [
    {
     "data": {
      "text/html": [
       "<div>\n",
       "<style scoped>\n",
       "    .dataframe tbody tr th:only-of-type {\n",
       "        vertical-align: middle;\n",
       "    }\n",
       "\n",
       "    .dataframe tbody tr th {\n",
       "        vertical-align: top;\n",
       "    }\n",
       "\n",
       "    .dataframe thead th {\n",
       "        text-align: right;\n",
       "    }\n",
       "</style>\n",
       "<table border=\"1\" class=\"dataframe\">\n",
       "  <thead>\n",
       "    <tr style=\"text-align: right;\">\n",
       "      <th>movie</th>\n",
       "      <th>Father of the Bride Part II (1995)</th>\n",
       "      <th>GoldenEye (1995)</th>\n",
       "      <th>Grumpier Old Men (1995)</th>\n",
       "      <th>Heat (1995)</th>\n",
       "      <th>Jumanji (1995)</th>\n",
       "      <th>Sabrina (1995)</th>\n",
       "      <th>Sudden Death (1995)</th>\n",
       "      <th>Tom and Huck (1995)</th>\n",
       "      <th>Toy Story (1995)</th>\n",
       "      <th>Waiting to Exhale (1995)</th>\n",
       "    </tr>\n",
       "  </thead>\n",
       "  <tbody>\n",
       "    <tr>\n",
       "      <th>3</th>\n",
       "      <td>0.0</td>\n",
       "      <td>0.0</td>\n",
       "      <td>0.0</td>\n",
       "      <td>0.0</td>\n",
       "      <td>3.5</td>\n",
       "      <td>0.0</td>\n",
       "      <td>0.0</td>\n",
       "      <td>0.0</td>\n",
       "      <td>0.0</td>\n",
       "      <td>0.0</td>\n",
       "    </tr>\n",
       "    <tr>\n",
       "      <th>6</th>\n",
       "      <td>0.0</td>\n",
       "      <td>0.0</td>\n",
       "      <td>4.0</td>\n",
       "      <td>0.0</td>\n",
       "      <td>0.0</td>\n",
       "      <td>0.0</td>\n",
       "      <td>0.0</td>\n",
       "      <td>0.0</td>\n",
       "      <td>0.0</td>\n",
       "      <td>0.0</td>\n",
       "    </tr>\n",
       "    <tr>\n",
       "      <th>8</th>\n",
       "      <td>0.0</td>\n",
       "      <td>0.0</td>\n",
       "      <td>0.0</td>\n",
       "      <td>0.0</td>\n",
       "      <td>0.0</td>\n",
       "      <td>0.0</td>\n",
       "      <td>0.0</td>\n",
       "      <td>0.0</td>\n",
       "      <td>4.0</td>\n",
       "      <td>0.0</td>\n",
       "    </tr>\n",
       "    <tr>\n",
       "      <th>10</th>\n",
       "      <td>0.0</td>\n",
       "      <td>4.0</td>\n",
       "      <td>0.0</td>\n",
       "      <td>3.0</td>\n",
       "      <td>0.0</td>\n",
       "      <td>0.0</td>\n",
       "      <td>0.0</td>\n",
       "      <td>0.0</td>\n",
       "      <td>0.0</td>\n",
       "      <td>0.0</td>\n",
       "    </tr>\n",
       "    <tr>\n",
       "      <th>11</th>\n",
       "      <td>0.0</td>\n",
       "      <td>0.0</td>\n",
       "      <td>0.0</td>\n",
       "      <td>0.0</td>\n",
       "      <td>3.0</td>\n",
       "      <td>0.0</td>\n",
       "      <td>0.0</td>\n",
       "      <td>0.0</td>\n",
       "      <td>0.0</td>\n",
       "      <td>0.0</td>\n",
       "    </tr>\n",
       "    <tr>\n",
       "      <th>...</th>\n",
       "      <td>...</td>\n",
       "      <td>...</td>\n",
       "      <td>...</td>\n",
       "      <td>...</td>\n",
       "      <td>...</td>\n",
       "      <td>...</td>\n",
       "      <td>...</td>\n",
       "      <td>...</td>\n",
       "      <td>...</td>\n",
       "      <td>...</td>\n",
       "    </tr>\n",
       "    <tr>\n",
       "      <th>7044</th>\n",
       "      <td>4.0</td>\n",
       "      <td>0.0</td>\n",
       "      <td>0.0</td>\n",
       "      <td>0.0</td>\n",
       "      <td>0.0</td>\n",
       "      <td>0.0</td>\n",
       "      <td>0.0</td>\n",
       "      <td>0.0</td>\n",
       "      <td>0.0</td>\n",
       "      <td>0.0</td>\n",
       "    </tr>\n",
       "    <tr>\n",
       "      <th>7070</th>\n",
       "      <td>3.5</td>\n",
       "      <td>0.0</td>\n",
       "      <td>0.0</td>\n",
       "      <td>0.0</td>\n",
       "      <td>0.0</td>\n",
       "      <td>0.0</td>\n",
       "      <td>0.0</td>\n",
       "      <td>0.0</td>\n",
       "      <td>4.0</td>\n",
       "      <td>0.0</td>\n",
       "    </tr>\n",
       "    <tr>\n",
       "      <th>7080</th>\n",
       "      <td>0.0</td>\n",
       "      <td>3.0</td>\n",
       "      <td>4.0</td>\n",
       "      <td>5.0</td>\n",
       "      <td>0.0</td>\n",
       "      <td>3.0</td>\n",
       "      <td>1.0</td>\n",
       "      <td>0.0</td>\n",
       "      <td>4.0</td>\n",
       "      <td>0.0</td>\n",
       "    </tr>\n",
       "    <tr>\n",
       "      <th>7087</th>\n",
       "      <td>0.0</td>\n",
       "      <td>0.0</td>\n",
       "      <td>0.0</td>\n",
       "      <td>0.0</td>\n",
       "      <td>0.0</td>\n",
       "      <td>0.0</td>\n",
       "      <td>0.0</td>\n",
       "      <td>0.0</td>\n",
       "      <td>5.0</td>\n",
       "      <td>0.0</td>\n",
       "    </tr>\n",
       "    <tr>\n",
       "      <th>7105</th>\n",
       "      <td>0.0</td>\n",
       "      <td>0.0</td>\n",
       "      <td>0.0</td>\n",
       "      <td>0.0</td>\n",
       "      <td>4.0</td>\n",
       "      <td>4.0</td>\n",
       "      <td>0.0</td>\n",
       "      <td>0.0</td>\n",
       "      <td>4.5</td>\n",
       "      <td>0.0</td>\n",
       "    </tr>\n",
       "  </tbody>\n",
       "</table>\n",
       "<p>4081 rows × 10 columns</p>\n",
       "</div>"
      ],
      "text/plain": [
       "movie  Father of the Bride Part II (1995)  GoldenEye (1995)  \\\n",
       "3                                     0.0               0.0   \n",
       "6                                     0.0               0.0   \n",
       "8                                     0.0               0.0   \n",
       "10                                    0.0               4.0   \n",
       "11                                    0.0               0.0   \n",
       "...                                   ...               ...   \n",
       "7044                                  4.0               0.0   \n",
       "7070                                  3.5               0.0   \n",
       "7080                                  0.0               3.0   \n",
       "7087                                  0.0               0.0   \n",
       "7105                                  0.0               0.0   \n",
       "\n",
       "movie  Grumpier Old Men (1995)  Heat (1995)  Jumanji (1995)  Sabrina (1995)  \\\n",
       "3                          0.0          0.0             3.5             0.0   \n",
       "6                          4.0          0.0             0.0             0.0   \n",
       "8                          0.0          0.0             0.0             0.0   \n",
       "10                         0.0          3.0             0.0             0.0   \n",
       "11                         0.0          0.0             3.0             0.0   \n",
       "...                        ...          ...             ...             ...   \n",
       "7044                       0.0          0.0             0.0             0.0   \n",
       "7070                       0.0          0.0             0.0             0.0   \n",
       "7080                       4.0          5.0             0.0             3.0   \n",
       "7087                       0.0          0.0             0.0             0.0   \n",
       "7105                       0.0          0.0             4.0             4.0   \n",
       "\n",
       "movie  Sudden Death (1995)  Tom and Huck (1995)  Toy Story (1995)  \\\n",
       "3                      0.0                  0.0               0.0   \n",
       "6                      0.0                  0.0               0.0   \n",
       "8                      0.0                  0.0               4.0   \n",
       "10                     0.0                  0.0               0.0   \n",
       "11                     0.0                  0.0               0.0   \n",
       "...                    ...                  ...               ...   \n",
       "7044                   0.0                  0.0               0.0   \n",
       "7070                   0.0                  0.0               4.0   \n",
       "7080                   1.0                  0.0               4.0   \n",
       "7087                   0.0                  0.0               5.0   \n",
       "7105                   0.0                  0.0               4.5   \n",
       "\n",
       "movie  Waiting to Exhale (1995)  \n",
       "3                           0.0  \n",
       "6                           0.0  \n",
       "8                           0.0  \n",
       "10                          0.0  \n",
       "11                          0.0  \n",
       "...                         ...  \n",
       "7044                        0.0  \n",
       "7070                        0.0  \n",
       "7080                        0.0  \n",
       "7087                        0.0  \n",
       "7105                        0.0  \n",
       "\n",
       "[4081 rows x 10 columns]"
      ]
     },
     "execution_count": 12,
     "metadata": {},
     "output_type": "execute_result"
    }
   ],
   "source": [
    "#Impute those NaNs with 0 values\\n\",\n",
    "user_movies_df.fillna(0, inplace=True)\n",
    "user_movies_df"
   ]
  },
  {
   "cell_type": "code",
   "execution_count": 13,
   "metadata": {
    "execution": {
     "iopub.execute_input": "2021-01-08T13:44:30.773135Z",
     "iopub.status.busy": "2021-01-08T13:44:30.772455Z",
     "iopub.status.idle": "2021-01-08T13:44:31.980069Z",
     "shell.execute_reply": "2021-01-08T13:44:31.979586Z"
    },
    "papermill": {
     "duration": 1.227678,
     "end_time": "2021-01-08T13:44:31.980177",
     "exception": false,
     "start_time": "2021-01-08T13:44:30.752499",
     "status": "completed"
    },
    "tags": []
   },
   "outputs": [
    {
     "data": {
      "text/plain": [
       "array([[1.        , 0.        , 0.        , ..., 0.        , 0.        ,\n",
       "        0.55337157],\n",
       "       [0.        , 1.        , 0.        , ..., 0.45883147, 0.        ,\n",
       "        0.        ],\n",
       "       [0.        , 0.        , 1.        , ..., 0.45883147, 1.        ,\n",
       "        0.62254302],\n",
       "       ...,\n",
       "       [0.        , 0.45883147, 0.45883147, ..., 1.        , 0.45883147,\n",
       "        0.47607054],\n",
       "       [0.        , 0.        , 1.        , ..., 0.45883147, 1.        ,\n",
       "        0.62254302],\n",
       "       [0.55337157, 0.        , 0.62254302, ..., 0.47607054, 0.62254302,\n",
       "        1.        ]])"
      ]
     },
     "execution_count": 13,
     "metadata": {},
     "output_type": "execute_result"
    }
   ],
   "source": [
    "#Calculating Cosine Similarity between Users\\n\",\n",
    "from sklearn.metrics import pairwise_distances\n",
    "from scipy.spatial.distance import cosine, correlation\n",
    "user_sim = 1 - pairwise_distances( user_movies_df.values,metric='cosine')\n",
    "user_sim"
   ]
  },
  {
   "cell_type": "code",
   "execution_count": 14,
   "metadata": {
    "execution": {
     "iopub.execute_input": "2021-01-08T13:44:32.020669Z",
     "iopub.status.busy": "2021-01-08T13:44:32.019779Z",
     "iopub.status.idle": "2021-01-08T13:44:32.022166Z",
     "shell.execute_reply": "2021-01-08T13:44:32.022552Z"
    },
    "papermill": {
     "duration": 0.02512,
     "end_time": "2021-01-08T13:44:32.022687",
     "exception": false,
     "start_time": "2021-01-08T13:44:31.997567",
     "status": "completed"
    },
    "tags": []
   },
   "outputs": [],
   "source": [
    "#Store the results in a dataframe\\n\",\n",
    "user_sim_df = pd.DataFrame(user_sim)"
   ]
  },
  {
   "cell_type": "code",
   "execution_count": 15,
   "metadata": {
    "execution": {
     "iopub.execute_input": "2021-01-08T13:44:32.061655Z",
     "iopub.status.busy": "2021-01-08T13:44:32.060746Z",
     "iopub.status.idle": "2021-01-08T13:44:32.065855Z",
     "shell.execute_reply": "2021-01-08T13:44:32.066397Z"
    },
    "papermill": {
     "duration": 0.026426,
     "end_time": "2021-01-08T13:44:32.066528",
     "exception": false,
     "start_time": "2021-01-08T13:44:32.040102",
     "status": "completed"
    },
    "tags": []
   },
   "outputs": [],
   "source": [
    "#Set the index and column names to user ids \\n\",\n",
    "user_sim_df.index = movies_df.userId.unique()\n",
    "user_sim_df.columns = movies_df.userId.unique()"
   ]
  },
  {
   "cell_type": "code",
   "execution_count": 16,
   "metadata": {
    "execution": {
     "iopub.execute_input": "2021-01-08T13:44:32.105989Z",
     "iopub.status.busy": "2021-01-08T13:44:32.105053Z",
     "iopub.status.idle": "2021-01-08T13:44:32.117114Z",
     "shell.execute_reply": "2021-01-08T13:44:32.117602Z"
    },
    "papermill": {
     "duration": 0.033332,
     "end_time": "2021-01-08T13:44:32.117752",
     "exception": false,
     "start_time": "2021-01-08T13:44:32.084420",
     "status": "completed"
    },
    "tags": []
   },
   "outputs": [
    {
     "data": {
      "text/html": [
       "<div>\n",
       "<style scoped>\n",
       "    .dataframe tbody tr th:only-of-type {\n",
       "        vertical-align: middle;\n",
       "    }\n",
       "\n",
       "    .dataframe tbody tr th {\n",
       "        vertical-align: top;\n",
       "    }\n",
       "\n",
       "    .dataframe thead th {\n",
       "        text-align: right;\n",
       "    }\n",
       "</style>\n",
       "<table border=\"1\" class=\"dataframe\">\n",
       "  <thead>\n",
       "    <tr style=\"text-align: right;\">\n",
       "      <th></th>\n",
       "      <th>3</th>\n",
       "      <th>6</th>\n",
       "      <th>8</th>\n",
       "      <th>10</th>\n",
       "      <th>11</th>\n",
       "    </tr>\n",
       "  </thead>\n",
       "  <tbody>\n",
       "    <tr>\n",
       "      <th>3</th>\n",
       "      <td>1.0</td>\n",
       "      <td>0.0</td>\n",
       "      <td>0.0</td>\n",
       "      <td>0.0</td>\n",
       "      <td>1.0</td>\n",
       "    </tr>\n",
       "    <tr>\n",
       "      <th>6</th>\n",
       "      <td>0.0</td>\n",
       "      <td>1.0</td>\n",
       "      <td>0.0</td>\n",
       "      <td>0.0</td>\n",
       "      <td>0.0</td>\n",
       "    </tr>\n",
       "    <tr>\n",
       "      <th>8</th>\n",
       "      <td>0.0</td>\n",
       "      <td>0.0</td>\n",
       "      <td>1.0</td>\n",
       "      <td>0.0</td>\n",
       "      <td>0.0</td>\n",
       "    </tr>\n",
       "    <tr>\n",
       "      <th>10</th>\n",
       "      <td>0.0</td>\n",
       "      <td>0.0</td>\n",
       "      <td>0.0</td>\n",
       "      <td>1.0</td>\n",
       "      <td>0.0</td>\n",
       "    </tr>\n",
       "    <tr>\n",
       "      <th>11</th>\n",
       "      <td>1.0</td>\n",
       "      <td>0.0</td>\n",
       "      <td>0.0</td>\n",
       "      <td>0.0</td>\n",
       "      <td>1.0</td>\n",
       "    </tr>\n",
       "  </tbody>\n",
       "</table>\n",
       "</div>"
      ],
      "text/plain": [
       "     3    6    8    10   11\n",
       "3   1.0  0.0  0.0  0.0  1.0\n",
       "6   0.0  1.0  0.0  0.0  0.0\n",
       "8   0.0  0.0  1.0  0.0  0.0\n",
       "10  0.0  0.0  0.0  1.0  0.0\n",
       "11  1.0  0.0  0.0  0.0  1.0"
      ]
     },
     "execution_count": 16,
     "metadata": {},
     "output_type": "execute_result"
    }
   ],
   "source": [
    "user_sim_df.iloc[0:5, 0:5]"
   ]
  },
  {
   "cell_type": "code",
   "execution_count": 17,
   "metadata": {
    "execution": {
     "iopub.execute_input": "2021-01-08T13:44:32.157631Z",
     "iopub.status.busy": "2021-01-08T13:44:32.156683Z",
     "iopub.status.idle": "2021-01-08T13:44:32.168377Z",
     "shell.execute_reply": "2021-01-08T13:44:32.168887Z"
    },
    "papermill": {
     "duration": 0.033194,
     "end_time": "2021-01-08T13:44:32.169025",
     "exception": false,
     "start_time": "2021-01-08T13:44:32.135831",
     "status": "completed"
    },
    "tags": []
   },
   "outputs": [
    {
     "data": {
      "text/html": [
       "<div>\n",
       "<style scoped>\n",
       "    .dataframe tbody tr th:only-of-type {\n",
       "        vertical-align: middle;\n",
       "    }\n",
       "\n",
       "    .dataframe tbody tr th {\n",
       "        vertical-align: top;\n",
       "    }\n",
       "\n",
       "    .dataframe thead th {\n",
       "        text-align: right;\n",
       "    }\n",
       "</style>\n",
       "<table border=\"1\" class=\"dataframe\">\n",
       "  <thead>\n",
       "    <tr style=\"text-align: right;\">\n",
       "      <th></th>\n",
       "      <th>3</th>\n",
       "      <th>6</th>\n",
       "      <th>8</th>\n",
       "      <th>10</th>\n",
       "      <th>11</th>\n",
       "    </tr>\n",
       "  </thead>\n",
       "  <tbody>\n",
       "    <tr>\n",
       "      <th>3</th>\n",
       "      <td>0.0</td>\n",
       "      <td>0.0</td>\n",
       "      <td>0.0</td>\n",
       "      <td>0.0</td>\n",
       "      <td>1.0</td>\n",
       "    </tr>\n",
       "    <tr>\n",
       "      <th>6</th>\n",
       "      <td>0.0</td>\n",
       "      <td>0.0</td>\n",
       "      <td>0.0</td>\n",
       "      <td>0.0</td>\n",
       "      <td>0.0</td>\n",
       "    </tr>\n",
       "    <tr>\n",
       "      <th>8</th>\n",
       "      <td>0.0</td>\n",
       "      <td>0.0</td>\n",
       "      <td>0.0</td>\n",
       "      <td>0.0</td>\n",
       "      <td>0.0</td>\n",
       "    </tr>\n",
       "    <tr>\n",
       "      <th>10</th>\n",
       "      <td>0.0</td>\n",
       "      <td>0.0</td>\n",
       "      <td>0.0</td>\n",
       "      <td>0.0</td>\n",
       "      <td>0.0</td>\n",
       "    </tr>\n",
       "    <tr>\n",
       "      <th>11</th>\n",
       "      <td>1.0</td>\n",
       "      <td>0.0</td>\n",
       "      <td>0.0</td>\n",
       "      <td>0.0</td>\n",
       "      <td>0.0</td>\n",
       "    </tr>\n",
       "  </tbody>\n",
       "</table>\n",
       "</div>"
      ],
      "text/plain": [
       "     3    6    8    10   11\n",
       "3   0.0  0.0  0.0  0.0  1.0\n",
       "6   0.0  0.0  0.0  0.0  0.0\n",
       "8   0.0  0.0  0.0  0.0  0.0\n",
       "10  0.0  0.0  0.0  0.0  0.0\n",
       "11  1.0  0.0  0.0  0.0  0.0"
      ]
     },
     "execution_count": 17,
     "metadata": {},
     "output_type": "execute_result"
    }
   ],
   "source": [
    "np.fill_diagonal(user_sim, 0)\n",
    "user_sim_df.iloc[0:5, 0:5]"
   ]
  },
  {
   "cell_type": "code",
   "execution_count": 18,
   "metadata": {
    "execution": {
     "iopub.execute_input": "2021-01-08T13:44:32.210043Z",
     "iopub.status.busy": "2021-01-08T13:44:32.209068Z",
     "iopub.status.idle": "2021-01-08T13:44:32.314348Z",
     "shell.execute_reply": "2021-01-08T13:44:32.313871Z"
    },
    "papermill": {
     "duration": 0.127118,
     "end_time": "2021-01-08T13:44:32.314450",
     "exception": false,
     "start_time": "2021-01-08T13:44:32.187332",
     "status": "completed"
    },
    "tags": []
   },
   "outputs": [
    {
     "data": {
      "text/plain": [
       "3       11\n",
       "6      168\n",
       "8       16\n",
       "10    4047\n",
       "11       3\n",
       "dtype: int64"
      ]
     },
     "execution_count": 18,
     "metadata": {},
     "output_type": "execute_result"
    }
   ],
   "source": [
    "#Most Similar Users\\n\",\n",
    "user_sim_df.idxmax(axis=1)[0:5]"
   ]
  },
  {
   "cell_type": "code",
   "execution_count": 19,
   "metadata": {
    "execution": {
     "iopub.execute_input": "2021-01-08T13:44:32.357372Z",
     "iopub.status.busy": "2021-01-08T13:44:32.356738Z",
     "iopub.status.idle": "2021-01-08T13:44:32.384245Z",
     "shell.execute_reply": "2021-01-08T13:44:32.383665Z"
    },
    "papermill": {
     "duration": 0.051037,
     "end_time": "2021-01-08T13:44:32.384347",
     "exception": false,
     "start_time": "2021-01-08T13:44:32.333310",
     "status": "completed"
    },
    "tags": []
   },
   "outputs": [
    {
     "data": {
      "text/html": [
       "<div>\n",
       "<style scoped>\n",
       "    .dataframe tbody tr th:only-of-type {\n",
       "        vertical-align: middle;\n",
       "    }\n",
       "\n",
       "    .dataframe tbody tr th {\n",
       "        vertical-align: top;\n",
       "    }\n",
       "\n",
       "    .dataframe thead th {\n",
       "        text-align: right;\n",
       "    }\n",
       "</style>\n",
       "<table border=\"1\" class=\"dataframe\">\n",
       "  <thead>\n",
       "    <tr style=\"text-align: right;\">\n",
       "      <th></th>\n",
       "      <th>userId</th>\n",
       "      <th>movie</th>\n",
       "      <th>rating</th>\n",
       "    </tr>\n",
       "  </thead>\n",
       "  <tbody>\n",
       "    <tr>\n",
       "      <th>1</th>\n",
       "      <td>6</td>\n",
       "      <td>Toy Story (1995)</td>\n",
       "      <td>5.0</td>\n",
       "    </tr>\n",
       "    <tr>\n",
       "      <th>60</th>\n",
       "      <td>168</td>\n",
       "      <td>Toy Story (1995)</td>\n",
       "      <td>4.5</td>\n",
       "    </tr>\n",
       "    <tr>\n",
       "      <th>3725</th>\n",
       "      <td>6</td>\n",
       "      <td>Grumpier Old Men (1995)</td>\n",
       "      <td>3.0</td>\n",
       "    </tr>\n",
       "    <tr>\n",
       "      <th>6464</th>\n",
       "      <td>6</td>\n",
       "      <td>Sabrina (1995)</td>\n",
       "      <td>5.0</td>\n",
       "    </tr>\n",
       "  </tbody>\n",
       "</table>\n",
       "</div>"
      ],
      "text/plain": [
       "      userId                    movie  rating\n",
       "1          6         Toy Story (1995)     5.0\n",
       "60       168         Toy Story (1995)     4.5\n",
       "3725       6  Grumpier Old Men (1995)     3.0\n",
       "6464       6           Sabrina (1995)     5.0"
      ]
     },
     "execution_count": 19,
     "metadata": {},
     "output_type": "execute_result"
    }
   ],
   "source": [
    "movies_df[(movies_df['userId']==6) | (movies_df['userId']==168)]"
   ]
  },
  {
   "cell_type": "code",
   "execution_count": 20,
   "metadata": {
    "execution": {
     "iopub.execute_input": "2021-01-08T13:44:32.429613Z",
     "iopub.status.busy": "2021-01-08T13:44:32.428817Z",
     "iopub.status.idle": "2021-01-08T13:44:32.431757Z",
     "shell.execute_reply": "2021-01-08T13:44:32.431119Z"
    },
    "papermill": {
     "duration": 0.028108,
     "end_time": "2021-01-08T13:44:32.431872",
     "exception": false,
     "start_time": "2021-01-08T13:44:32.403764",
     "status": "completed"
    },
    "tags": []
   },
   "outputs": [],
   "source": [
    "user_1=movies_df[movies_df['userId']==6]"
   ]
  },
  {
   "cell_type": "code",
   "execution_count": 21,
   "metadata": {
    "execution": {
     "iopub.execute_input": "2021-01-08T13:44:32.476109Z",
     "iopub.status.busy": "2021-01-08T13:44:32.475254Z",
     "iopub.status.idle": "2021-01-08T13:44:32.477734Z",
     "shell.execute_reply": "2021-01-08T13:44:32.478133Z"
    },
    "papermill": {
     "duration": 0.026907,
     "end_time": "2021-01-08T13:44:32.478261",
     "exception": false,
     "start_time": "2021-01-08T13:44:32.451354",
     "status": "completed"
    },
    "tags": []
   },
   "outputs": [],
   "source": [
    "user_2=movies_df[movies_df['userId']==11]"
   ]
  },
  {
   "cell_type": "code",
   "execution_count": 22,
   "metadata": {
    "execution": {
     "iopub.execute_input": "2021-01-08T13:44:32.522175Z",
     "iopub.status.busy": "2021-01-08T13:44:32.521561Z",
     "iopub.status.idle": "2021-01-08T13:44:32.525263Z",
     "shell.execute_reply": "2021-01-08T13:44:32.524666Z"
    },
    "papermill": {
     "duration": 0.028295,
     "end_time": "2021-01-08T13:44:32.525385",
     "exception": false,
     "start_time": "2021-01-08T13:44:32.497090",
     "status": "completed"
    },
    "tags": []
   },
   "outputs": [
    {
     "data": {
      "text/plain": [
       "4       Toy Story (1995)\n",
       "7446    GoldenEye (1995)\n",
       "Name: movie, dtype: object"
      ]
     },
     "execution_count": 22,
     "metadata": {},
     "output_type": "execute_result"
    }
   ],
   "source": [
    "user_2.movie"
   ]
  },
  {
   "cell_type": "code",
   "execution_count": 23,
   "metadata": {
    "execution": {
     "iopub.execute_input": "2021-01-08T13:44:32.568020Z",
     "iopub.status.busy": "2021-01-08T13:44:32.567456Z",
     "iopub.status.idle": "2021-01-08T13:44:32.573009Z",
     "shell.execute_reply": "2021-01-08T13:44:32.573460Z"
    },
    "papermill": {
     "duration": 0.028242,
     "end_time": "2021-01-08T13:44:32.573588",
     "exception": false,
     "start_time": "2021-01-08T13:44:32.545346",
     "status": "completed"
    },
    "tags": []
   },
   "outputs": [
    {
     "data": {
      "text/plain": [
       "1              Toy Story (1995)\n",
       "3725    Grumpier Old Men (1995)\n",
       "6464             Sabrina (1995)\n",
       "Name: movie, dtype: object"
      ]
     },
     "execution_count": 23,
     "metadata": {},
     "output_type": "execute_result"
    }
   ],
   "source": [
    "user_1.movie"
   ]
  },
  {
   "cell_type": "code",
   "execution_count": 24,
   "metadata": {
    "execution": {
     "iopub.execute_input": "2021-01-08T13:44:32.617319Z",
     "iopub.status.busy": "2021-01-08T13:44:32.616722Z",
     "iopub.status.idle": "2021-01-08T13:44:32.634301Z",
     "shell.execute_reply": "2021-01-08T13:44:32.633766Z"
    },
    "papermill": {
     "duration": 0.040538,
     "end_time": "2021-01-08T13:44:32.634418",
     "exception": false,
     "start_time": "2021-01-08T13:44:32.593880",
     "status": "completed"
    },
    "tags": []
   },
   "outputs": [
    {
     "data": {
      "text/html": [
       "<div>\n",
       "<style scoped>\n",
       "    .dataframe tbody tr th:only-of-type {\n",
       "        vertical-align: middle;\n",
       "    }\n",
       "\n",
       "    .dataframe tbody tr th {\n",
       "        vertical-align: top;\n",
       "    }\n",
       "\n",
       "    .dataframe thead th {\n",
       "        text-align: right;\n",
       "    }\n",
       "</style>\n",
       "<table border=\"1\" class=\"dataframe\">\n",
       "  <thead>\n",
       "    <tr style=\"text-align: right;\">\n",
       "      <th></th>\n",
       "      <th>userId_x</th>\n",
       "      <th>movie</th>\n",
       "      <th>rating_x</th>\n",
       "      <th>userId_y</th>\n",
       "      <th>rating_y</th>\n",
       "    </tr>\n",
       "  </thead>\n",
       "  <tbody>\n",
       "    <tr>\n",
       "      <th>0</th>\n",
       "      <td>6.0</td>\n",
       "      <td>Toy Story (1995)</td>\n",
       "      <td>5.0</td>\n",
       "      <td>11.0</td>\n",
       "      <td>4.5</td>\n",
       "    </tr>\n",
       "    <tr>\n",
       "      <th>1</th>\n",
       "      <td>6.0</td>\n",
       "      <td>Grumpier Old Men (1995)</td>\n",
       "      <td>3.0</td>\n",
       "      <td>NaN</td>\n",
       "      <td>NaN</td>\n",
       "    </tr>\n",
       "    <tr>\n",
       "      <th>2</th>\n",
       "      <td>6.0</td>\n",
       "      <td>Sabrina (1995)</td>\n",
       "      <td>5.0</td>\n",
       "      <td>NaN</td>\n",
       "      <td>NaN</td>\n",
       "    </tr>\n",
       "    <tr>\n",
       "      <th>3</th>\n",
       "      <td>NaN</td>\n",
       "      <td>GoldenEye (1995)</td>\n",
       "      <td>NaN</td>\n",
       "      <td>11.0</td>\n",
       "      <td>2.5</td>\n",
       "    </tr>\n",
       "  </tbody>\n",
       "</table>\n",
       "</div>"
      ],
      "text/plain": [
       "   userId_x                    movie  rating_x  userId_y  rating_y\n",
       "0       6.0         Toy Story (1995)       5.0      11.0       4.5\n",
       "1       6.0  Grumpier Old Men (1995)       3.0       NaN       NaN\n",
       "2       6.0           Sabrina (1995)       5.0       NaN       NaN\n",
       "3       NaN         GoldenEye (1995)       NaN      11.0       2.5"
      ]
     },
     "execution_count": 24,
     "metadata": {},
     "output_type": "execute_result"
    }
   ],
   "source": [
    "pd.merge(user_1,user_2,on='movie',how='outer')"
   ]
  }
 ],
 "metadata": {
  "kernelspec": {
   "display_name": "Python 3",
   "language": "python",
   "name": "python3"
  },
  "language_info": {
   "codemirror_mode": {
    "name": "ipython",
    "version": 3
   },
   "file_extension": ".py",
   "mimetype": "text/x-python",
   "name": "python",
   "nbconvert_exporter": "python",
   "pygments_lexer": "ipython3",
   "version": "3.7.6"
  },
  "papermill": {
   "duration": 7.793999,
   "end_time": "2021-01-08T13:44:33.681644",
   "environment_variables": {},
   "exception": null,
   "input_path": "__notebook__.ipynb",
   "output_path": "__notebook__.ipynb",
   "parameters": {},
   "start_time": "2021-01-08T13:44:25.887645",
   "version": "2.1.0"
  }
 },
 "nbformat": 4,
 "nbformat_minor": 4
}
